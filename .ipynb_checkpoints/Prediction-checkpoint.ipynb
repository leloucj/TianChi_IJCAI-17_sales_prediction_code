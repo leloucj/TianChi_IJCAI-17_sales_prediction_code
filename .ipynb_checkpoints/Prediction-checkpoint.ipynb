{
 "cells": [
  {
   "cell_type": "markdown",
   "metadata": {},
   "source": [
    "# formal prediction! good luck!!"
   ]
  },
  {
   "cell_type": "code",
   "execution_count": 2,
   "metadata": {
    "collapsed": true
   },
   "outputs": [],
   "source": [
    "# -*- coding: utf-8 -*-\n",
    "import os\n",
    "import pandas as pd\n",
    "import numpy as np\n",
    "import matplotlib.pyplot as plt\n",
    "import seaborn as sns\n",
    "import datetime\n",
    "import time\n",
    "from matplotlib.ticker import MultipleLocator \n",
    "\n",
    "%matplotlib inline\n",
    "\n",
    "path = os.getcwd().split('TianChi_IJCAI-17_footfall_prediction_code')[0]\n",
    "\n",
    "#shop_info = pd.read_table(path+'dataset/shop_info.txt',names=['shop_id','city_name','location_id','per_pay','score','comment_cnt','shop_level','cate_1_name','cate_2_name','cate_3_name'],header=None,delimiter=',',encoding='utf8',delim_whitespace=False,index_col=False)\n",
    "shop_info = pd.read_table(path+'dataset/shop info with count.csv',delimiter=',',encoding='utf8',delim_whitespace=False,index_col=False)\n",
    "\n",
    "shop_info.index = shop_info['shop_id'].tolist()"
   ]
  },
  {
   "cell_type": "markdown",
   "metadata": {},
   "source": [
    "## 定义基本的函数和计算"
   ]
  },
  {
   "cell_type": "code",
   "execution_count": null,
   "metadata": {
    "collapsed": true
   },
   "outputs": [],
   "source": [
    "def dateRange(start, end):\n",
    "    days = (datetime.datetime.strptime(end, \"%Y-%m-%d\") - datetime.datetime.strptime(start, \"%Y-%m-%d\")).days + 1\n",
    "    return [datetime.datetime.strftime(datetime.datetime.strptime(start, \"%Y-%m-%d\") + datetime.timedelta(i), \"%Y-%m-%d\") for i in xrange(days)]\n",
    "#len(dateRange('2015-07-01','2016-10-31'))\n",
    "\n",
    "def date_to_week(date):\n",
    "    if type(date) == str:\n",
    "        date = pd.to_datetime(date).date()\n",
    "    #type(date) == datetime.date\n",
    "    return (date - datetime.date(2015,7,7)).days  / 7\n",
    "\n",
    "# 2015-07-07 2015-07-13   \n",
    "\n",
    "def week_to_date(week_number,return_str=True):\n",
    "    if week_to_date:\n",
    "        return [(datetime.date(2015,7,7)+ datetime.timedelta(week_number*7)).strftime(\"%Y-%m-%d\"),(datetime.date(2015,7,13)+ datetime.timedelta(week_number*7)).strftime(\"%Y-%m-%d\")]\n",
    "    return [datetime.date(2015,7,7)+ datetime.timedelta(week_number*7),datetime.date(2015,7,13)+ datetime.timedelta(week_number*7)]\n"
   ]
  },
  {
   "cell_type": "code",
   "execution_count": null,
   "metadata": {
    "collapsed": false,
    "scrolled": true
   },
   "outputs": [],
   "source": [
    "def cal_start_day(x):\n",
    "    for day in dateRange('2015-07-01','2016-10-31'):\n",
    "        if x[day]>0 :\n",
    "            return day\n",
    "    \n",
    "\n",
    "shop_info['start_day'] = shop_info.apply(lambda x:cal_start_day(x),axis =1)"
   ]
  },
  {
   "cell_type": "markdown",
   "metadata": {},
   "source": [
    "### 定义可视化函数"
   ]
  },
  {
   "cell_type": "code",
   "execution_count": null,
   "metadata": {
    "collapsed": true
   },
   "outputs": [],
   "source": [
    "def draw_week_id(id,start_date='wk_0',end_date='wk_68',figsieze=(16,9)):\n",
    "    shop_info.loc[id,start_date:end_date].T.plot(figsize=(16,9))\n",
    "def draw_week_ids(ids,start_date='wk_0',end_date='wk_68',figsieze=(16,9)):\n",
    "    shop_info.loc[ids,start_date:end_date].T.plot(figsize=(16,9))\n",
    "def draw_ids(ids,start_date='2015-07-01',end_date='2016-10-31',by_week=False,figsize=(16,9)):\n",
    "    if by_week:\n",
    "        xmajorLocator = MultipleLocator(7) #将x轴次刻度标签设置为7的倍数\n",
    "        ax = plt.subplot(111) \n",
    "        ax.xaxis.set_major_locator(xmajorLocator)\n",
    "        shop_info.loc[ids,start_date:end_date].T.plot(figsize=figsize,ax=ax)\n",
    "    else: shop_info.loc[ids,start_date:end_date].T.plot(figsize=figsize)\n",
    "    plt.show()\n",
    "def draw_ids_avg(ids,start_date='2015-07-01',end_date='2016-10-31',by_week=True,figsize=(70,10)):\n",
    "    if by_week:\n",
    "        xmajorLocator   = MultipleLocator(7) #将x轴次刻度标签设置为7的倍数\n",
    "        ax = plt.subplot(111) \n",
    "        ax.xaxis.set_major_locator(xmajorLocator)\n",
    "    shop_info.loc[ids,start_date:end_date].mean(axis=0).plot(figsize=figsize)\n",
    "    plt.show()\n",
    "def draw_ids_diff(ids,start_date='2015-07-01',end_date='2016-10-31',by_week=False,figsize=(16,9)):  \n",
    "    if by_week:\n",
    "        xmajorLocator   = MultipleLocator(7) #将x轴次刻度标签设置为7的倍数\n",
    "        ax = plt.subplot(111) \n",
    "        ax.xaxis.set_major_locator(xmajorLocator)\n",
    "    (shop_info.loc[ids[0],start_date:end_date]-shop_info.loc[ids[1],start_date:end_date]).plot(figsize=figsize)\n",
    "def draw_id(id,start_date='2015-07-01',end_date='2016-10-31',by_week=False,figsize=(16,9)):\n",
    "    if by_week:\n",
    "        xmajorLocator = MultipleLocator(7) #将x轴次刻度标签设置为7的倍数\n",
    "        ax = plt.subplot(111) \n",
    "        ax.xaxis.set_major_locator(xmajorLocator)\n",
    "    shop_info.loc[id,start_date:end_date].plot(legend=True,figsize=figsize)\n",
    "\n"
   ]
  },
  {
   "cell_type": "markdown",
   "metadata": {},
   "source": [
    "###  Data preprocessing"
   ]
  },
  {
   "cell_type": "markdown",
   "metadata": {},
   "source": [
    "#### 填充 2015.12.12"
   ]
  },
  {
   "cell_type": "code",
   "execution_count": null,
   "metadata": {
    "collapsed": true
   },
   "outputs": [],
   "source": [
    "def fillna_double_12(x):\n",
    "    if pd.to_datetime(x['start_day']).date() < pd.to_datetime('2015-12-12').date():  \n",
    "        if x['2015-12-05']>0 and x['2015-12-19']>0 :\n",
    "            return int(x['2015-12-05'] + x['2015-12-19'] /2.0 +0.5)\n",
    "        elif x['2015-12-05']>0: return x['2015-12-05']\n",
    "        elif x['2015-12-19']>0: return x['2015-12-19']\n",
    "        else: return 0\n",
    "    return 0\n",
    "shop_info['2015-12-12'] = shop_info.apply(lambda x:fillna_double_12(x),axis=1)"
   ]
  },
  {
   "cell_type": "markdown",
   "metadata": {},
   "source": [
    "#### 填充最后三周出现单次零值状况"
   ]
  },
  {
   "cell_type": "code",
   "execution_count": null,
   "metadata": {
    "collapsed": true
   },
   "outputs": [],
   "source": [
    "ids_zero_1_count_in_last_three_week = [513, 987, 1163, 524, 397, 18, 1556, 1688, 5, 1185, 1700, 1959, 683, 1715, 958, 480, 707, 459, 1486, 1831, 722, 735, 352, 363, 1661, 1918]\n",
    "for day in dateRange('2016-10-11','2016-10-31'):\n",
    "    for id in ids_zero_1_count_in_last_three_week:\n",
    "        if shop_info.loc[id,day] == 0:\n",
    "            day_offset = (pd.to_datetime(day).date() - datetime.date(2016,10,11)).days % 7 \n",
    "            rel_days = []\n",
    "            for rel_day in dateRange('2016-10-11','2016-10-31'):\n",
    "                if (pd.to_datetime(rel_day).date() - datetime.date(2016,10,11)).days % 7 == day_offset and rel_day != day:\n",
    "                    rel_days.append(shop_info.loc[id,rel_day])\n",
    "            rel_days = np.array(rel_days)\n",
    "            shop_info.loc[id,day] = np.int64(rel_days.mean()+0.5)"
   ]
  },
  {
   "cell_type": "markdown",
   "metadata": {},
   "source": [
    "#### 计算每周count"
   ]
  },
  {
   "cell_type": "code",
   "execution_count": null,
   "metadata": {
    "collapsed": true
   },
   "outputs": [],
   "source": [
    "\n",
    "#  占个格子 &&  cal avg sales count each day\n",
    "total_day = pd.to_datetime('2016-11-01').date()-pd.to_datetime('2015-07-01').date() \n",
    "total_day = total_day.days\n",
    "total_week = total_day / 7  # 69个\n",
    "start_day = pd.to_datetime('2016-11-01').date() - datetime.timedelta(total_week*7)\n",
    "#print start_day\n",
    "for week_number in range(total_week): # 0~68\n",
    "    start_day_of_week = start_day +  datetime.timedelta(week_number*7) \n",
    "    end_day_of_week = start_day_of_week + datetime.timedelta(6)\n",
    "    start_day_of_week =   start_day_of_week.strftime(\"%Y-%m-%d\")\n",
    "    end_day_of_week = end_day_of_week.strftime(\"%Y-%m-%d\")\n",
    "    print start_day_of_week,end_day_of_week\n",
    "    shop_info['wk_'+str(week_number)] = shop_info.loc[:,start_day_of_week:end_day_of_week].mean(axis=1)"
   ]
  },
  {
   "cell_type": "markdown",
   "metadata": {},
   "source": [
    "#### 计算倒数三周之间的余弦相似度"
   ]
  },
  {
   "cell_type": "code",
   "execution_count": null,
   "metadata": {
    "collapsed": true
   },
   "outputs": [],
   "source": [
    "wk1=['2016-10-11','2016-10-17']\n",
    "wk2=['2016-10-18','2016-10-24']\n",
    "wk3=['2016-10-25','2016-10-31']\n",
    "def cal_cos_sim_between(x,wka,wkb):\n",
    "    wka_vec =  np.array(x[wka[0]:wka[1]].tolist())\n",
    "    wkb_vec =  np.array(x[wkb[0]:wkb[1]].tolist())\n",
    "    sim = wka_vec.dot(wkb_vec) / (np.sqrt(np.sum(np.square(wka_vec))) * np.sqrt(np.sum(np.square(wkb_vec))))\n",
    "    return sim\n",
    "shop_info['cos_sim_between_wk_1_2'] = shop_info.apply(lambda x: cal_cos_sim_between(x,wk1,wk2),axis=1)\n",
    "shop_info['cos_sim_between_wk_2_3'] = shop_info.apply(lambda x: cal_cos_sim_between(x,wk2,wk3),axis=1)\n",
    "shop_info['cos_sim_between_wk_1_3'] = shop_info.apply(lambda x: cal_cos_sim_between(x,wk1,wk3),axis=1)"
   ]
  },
  {
   "cell_type": "code",
   "execution_count": null,
   "metadata": {
    "collapsed": true
   },
   "outputs": [],
   "source": [
    "shop_info['cos_sim_between_wk_1_2'].replace(np.NaN,0.0,inplace=True)\n",
    "shop_info['cos_sim_between_wk_2_3'].replace(np.NaN,0.0,inplace=True)\n",
    "shop_info['cos_sim_between_wk_1_3'].replace(np.NaN,0.0,inplace=True)"
   ]
  },
  {
   "cell_type": "markdown",
   "metadata": {},
   "source": [
    "#### 计算每一周与下一周之间的余弦相似度"
   ]
  },
  {
   "cell_type": "code",
   "execution_count": null,
   "metadata": {
    "collapsed": true
   },
   "outputs": [],
   "source": [
    "def cal_cos_sim(x,start_day_of_week,end_day_of_week,start_day_of_next_week,end_day_of_next_week):\n",
    "    wka_vec =  np.array(x[start_day_of_week:end_day_of_week].tolist())\n",
    "    wkb_vec =  np.array(x[start_day_of_next_week:end_day_of_next_week].tolist())\n",
    "    sim = wka_vec.dot(wkb_vec) / (np.sqrt(np.sum(np.square(wka_vec))) * np.sqrt(np.sum(np.square(wkb_vec))))\n",
    "    return sim \n",
    "    \n",
    "    \n",
    "total_day = pd.to_datetime('2016-11-01').date()-pd.to_datetime('2015-07-01').date() \n",
    "total_day = total_day.days\n",
    "total_week = total_day / 7\n",
    "start_day = pd.to_datetime('2015-07-07').date()\n",
    "for week_number in range(total_week-1): # 0 ~ 68-1\n",
    "    start_day_of_week = start_day +  datetime.timedelta(week_number*7) \n",
    "    end_day_of_week = start_day_of_week + datetime.timedelta(6)\n",
    "    start_day_of_next_week = start_day_of_week + datetime.timedelta(7)\n",
    "    end_day_of_next_week = end_day_of_week + datetime.timedelta(7)\n",
    "    start_day_of_week = start_day_of_week.strftime(\"%Y-%m-%d\")\n",
    "    end_day_of_week = end_day_of_week.strftime(\"%Y-%m-%d\")\n",
    "    start_day_of_next_week = start_day_of_next_week.strftime(\"%Y-%m-%d\")\n",
    "    end_day_of_next_week = end_day_of_next_week.strftime(\"%Y-%m-%d\")\n",
    "    shop_info['cos_sim_wk_'+str(week_number)] = shop_info.apply(lambda x: cal_cos_sim(x,start_day_of_week,end_day_of_week,start_day_of_next_week,end_day_of_next_week),axis=1)"
   ]
  },
  {
   "cell_type": "markdown",
   "metadata": {},
   "source": [
    "#### 找出稳定时间段（时间段类各周的余弦相似度高）"
   ]
  },
  {
   "cell_type": "code",
   "execution_count": null,
   "metadata": {
    "collapsed": true
   },
   "outputs": [],
   "source": [
    "def show_stable_period_id(id,i):\n",
    "    stable_periods = shop_info.loc[id,'stable_period_'+str(i)]\n",
    "    for sp in stable_periods:\n",
    "        print 'id :',id, week_to_date(sp[0])[0], week_to_date(sp[1])[1]\n",
    "        "
   ]
  },
  {
   "cell_type": "code",
   "execution_count": null,
   "metadata": {
    "collapsed": false
   },
   "outputs": [],
   "source": [
    "def cal_stable_period(x,base_sim):\n",
    "    print x['shop_id']\n",
    "    stable_period = []\n",
    "    next_start_wk = 0\n",
    "    for wk in range(0,66):\n",
    "        if next_start_wk != 0 and wk != next_start_wk : \n",
    "            #print 'next_start_wk =',next_start_wk,'continue'\n",
    "            continue\n",
    "        #print wk\n",
    "        next_start_wk = 0\n",
    "        if x['cos_sim_wk_'+str(wk)] >  base_sim:\n",
    "            #print x['shop_id'],'aa'\n",
    "            for wknext in range(wk + 1,67):\n",
    "                if x['cos_sim_wk_'+str(wknext)] > base_sim :\n",
    "                    if wknext == 66:\n",
    "                        stable_period.append([wk,wknext]) # wk~wknext(不包括wknext)\n",
    "                        #print [wk,wknext]\n",
    "                        next_start_wk = wknext\n",
    "                        break\n",
    "                    else:    \n",
    "                        #print x['shop_id'],'bbbb'\n",
    "                        pass\n",
    "                else:\n",
    "                    if wknext - wk >= 3 : \n",
    "                        stable_period.append([wk,wknext]) # wk~wknext(不包括wknext)\n",
    "                        print [wk,wknext]\n",
    "                        next_start_wk = wknext\n",
    "                    else:\n",
    "                        next_start_wk = 0\n",
    "                    break #结束子循环\n",
    "    #print 'id= ',x['shop_id'],stable_period\n",
    "    return stable_period\n",
    "shop_info['stable_period_1'] = shop_info.apply(lambda x: cal_stable_period(x,0.99),axis = 1)\n",
    "shop_info['stable_period_2'] = shop_info.apply(lambda x: cal_stable_period(x,0.98),axis = 1)\n",
    "shop_info['stable_period_3'] = shop_info.apply(lambda x: cal_stable_period(x,0.96),axis = 1)"
   ]
  },
  {
   "cell_type": "markdown",
   "metadata": {},
   "source": [
    "#### ids_stable_period_**\n",
    "#### 看看有没有 没有 stable_period的"
   ]
  },
  {
   "cell_type": "code",
   "execution_count": null,
   "metadata": {
    "collapsed": false
   },
   "outputs": [],
   "source": [
    "ids_stable_period_1 = [];ids_stable_period_2=[];ids_stable_period_3=[];ids_no_stable_period=[]\n",
    "for id in shop_info.index.tolist():\n",
    "    if len(shop_info.loc[id,'stable_period_1'])>0:\n",
    "        ids_stable_period_1.append(id)\n",
    "    elif len(shop_info.loc[id,'stable_period_2'])>0:\n",
    "        ids_stable_period_2.append(id)\n",
    "    elif len(shop_info.loc[id,'stable_period_3'])>0:\n",
    "        ids_stable_period_3.append(id)\n",
    "    else:\n",
    "        ids_no_stable_period.append(id)\n",
    "print len(ids_stable_period_1),len(ids_stable_period_2),len(ids_stable_period_3),len(ids_no_stable_period)\n",
    "\n",
    "# ids_stable_period_2\n",
    "# ids_stable_period_3\n",
    "# ids_no_stable_period"
   ]
  },
  {
   "cell_type": "code",
   "execution_count": null,
   "metadata": {
    "collapsed": false
   },
   "outputs": [],
   "source": []
  },
  {
   "cell_type": "markdown",
   "metadata": {},
   "source": [
    "### 最后三周出现多次零值的 mess 仅作预测趋势不做预测波动"
   ]
  },
  {
   "cell_type": "code",
   "execution_count": null,
   "metadata": {
    "collapsed": false
   },
   "outputs": [],
   "source": [
    "\n",
    "ids_zero_morethan1_count_in_last_three_week = [2, 1707, 1925, 1418, 659, 1053, 1797, 1824, 547, 810, 432, 1459, 1462, 1464, 1465, 700, 191, 1858, 1993, 1109, 470,1243, 1380, 444, 1269, 632]\n",
    "\n"
   ]
  },
  {
   "cell_type": "markdown",
   "metadata": {},
   "source": [
    "#### 最后三周均值很低的"
   ]
  },
  {
   "cell_type": "code",
   "execution_count": null,
   "metadata": {
    "collapsed": false
   },
   "outputs": [],
   "source": [
    "ids_low_count_in_last_3_wk = shop_info[shop_info.loc[:,'2016-10-11':'2016-10-31'].mean(axis=1)<50].index.tolist()\n",
    "print len(ids_low_count_in_last_3_wk)\n",
    "#draw_ids(ids_low_count_in_last_3_wk[:5],start_date='2016-02-11',end_date='2016-10-31',by_week=True)"
   ]
  },
  {
   "cell_type": "markdown",
   "metadata": {},
   "source": [
    "#### 最后三周出现相对三周内极高点的"
   ]
  },
  {
   "cell_type": "code",
   "execution_count": null,
   "metadata": {
    "collapsed": false
   },
   "outputs": [],
   "source": [
    "ids_highest_point_error_compared_to_last_three_days = []\n",
    "def cal_highest_point_error_compared_to_last_three_days(x):\n",
    "    sales_list = sorted(x['2016-10-11':'2016-10-31'].tolist(),reverse=True)\n",
    "    if sales_list[1] > 0:\n",
    "        if 1.0 * sales_list[0] / sales_list[1] > 1.2:\n",
    "            ids_highest_point_error_compared_to_last_three_days.append(x['shop_id'])\n",
    "shop_info.apply(lambda x: cal_highest_point_error_compared_to_last_three_days(x) ,axis=1)\n",
    "print len(ids_highest_point_error_compared_to_last_three_days)\n",
    "#draw_ids(ids_highest_point_error_compared_to_last_three_days,start_date='2016-10-11',end_date='2016-10-31',by_week=True)"
   ]
  },
  {
   "cell_type": "markdown",
   "metadata": {},
   "source": [
    "#### 最后三周出现相对三周内极低点的"
   ]
  },
  {
   "cell_type": "code",
   "execution_count": null,
   "metadata": {
    "collapsed": false
   },
   "outputs": [],
   "source": [
    "ids_lowest_point_error_compared_to_last_three_days = []\n",
    "def cal_lowest_point_error_compared_to_last_three_days(x):\n",
    "    sales_list = sorted(x['2016-10-11':'2016-10-31'].tolist())\n",
    "    if sales_list[1] > 0:\n",
    "        if 1.0 * sales_list[0] / sales_list[1] < 0.7:\n",
    "            ids_lowest_point_error_compared_to_last_three_days.append(x['shop_id'])\n",
    "shop_info.apply(lambda x: cal_lowest_point_error_compared_to_last_three_days(x) ,axis=1)\n",
    "print len(ids_lowest_point_error_compared_to_last_three_days)\n",
    "\n",
    "#draw_ids(ids_lowest_point_error_compared_to_last_three_days,start_date='2016-10-11',end_date='2016-10-31',by_week=True)"
   ]
  },
  {
   "cell_type": "markdown",
   "metadata": {},
   "source": [
    "#### 波动幅度"
   ]
  },
  {
   "cell_type": "code",
   "execution_count": null,
   "metadata": {
    "collapsed": true
   },
   "outputs": [],
   "source": [
    "def cal_wave_range(x):\n",
    "    sales_count = sorted(x['2016-10-11':'2016-10-31'].tolist())\n",
    "    if sum(sales_count[18:]) == 0 :return 0\n",
    "    return (sum(sales_count[18:]) - sum(sales_count[:3]))/float(sum(sales_count[18:]))\n",
    "shop_info['wave_range'] = shop_info.apply(lambda x: cal_wave_range(x),axis = 1)"
   ]
  },
  {
   "cell_type": "markdown",
   "metadata": {},
   "source": [
    "#### 三周的余弦相似度过低"
   ]
  },
  {
   "cell_type": "code",
   "execution_count": null,
   "metadata": {
    "collapsed": false
   },
   "outputs": [],
   "source": [
    "ids_cos_sim_low_between_wk_1_2 = shop_info[shop_info['cos_sim_between_wk_1_2']<0.98].index.tolist()\n",
    "ids_cos_sim_low_between_wk_2_3 = shop_info[shop_info['cos_sim_between_wk_2_3']<0.98].index.tolist()\n",
    "ids_cos_sim_low_between_wk_1_3 = shop_info[shop_info['cos_sim_between_wk_1_3']<0.98].index.tolist()\n",
    "ids_cos_sim_low_3_wk = []\n",
    "ids_cos_sim_low_3_wk.extend(ids_cos_sim_low_between_wk_1_2)\n",
    "ids_cos_sim_low_3_wk.extend(ids_cos_sim_low_between_wk_2_3)\n",
    "ids_cos_sim_low_3_wk.extend(ids_cos_sim_low_between_wk_1_3)\n",
    "ids_cos_sim_low_3_wk = list(set(ids_cos_sim_low_3_wk))\n",
    "print len(ids_cos_sim_low_between_wk_1_2)\n",
    "print len(ids_cos_sim_low_between_wk_2_3)\n",
    "print len(ids_cos_sim_low_between_wk_1_3)\n",
    "print len(ids_cos_sim_low_3_wk)\n",
    "ids_cos_sim_high_3_wk =[ i  for i in shop_info.index.tolist() if i not in ids_cos_sim_low_3_wk]\n",
    "print len(ids_cos_sim_high_3_wk)\n",
    "ids_cos_sim_high_23_wk = [i for i in shop_info[shop_info['cos_sim_between_wk_2_3']>0.98].index.tolist() if i not in ids_cos_sim_high_3_wk and i in  shop_info[shop_info['cos_sim_between_wk_1_2']>0.95].index.tolist()]\n",
    "print len(ids_cos_sim_high_23_wk)\n",
    "\n",
    "ids_cos_sim_low_3_wk_other = [i for i in ids_cos_sim_low_3_wk if i not in ids_cos_sim_high_23_wk]\n",
    "print len(ids_cos_sim_low_3_wk_other)"
   ]
  },
  {
   "cell_type": "code",
   "execution_count": null,
   "metadata": {
    "collapsed": true
   },
   "outputs": [],
   "source": [
    "ids_zero_morethan1_count_in_last_three_week_but_no_zero_in_last_two_week=[1053, 432, 1464, 1465, 1993, 1109, 1269]"
   ]
  },
  {
   "cell_type": "code",
   "execution_count": null,
   "metadata": {
    "collapsed": true
   },
   "outputs": [],
   "source": [
    "ids_no_zero_count_in_last_three_week = [i for i in shop_info.index.tolist() if i not in ids_zero_morethan1_count_in_last_three_week and i not in  ids_cos_sim_high_3_wk]"
   ]
  },
  {
   "cell_type": "code",
   "execution_count": null,
   "metadata": {
    "collapsed": true
   },
   "outputs": [],
   "source": [
    "ids_zero_morethan1_count_in_last_three_week_and_two_week = [i for i in ids_zero_morethan1_count_in_last_three_week if i not in ids_zero_morethan1_count_in_last_three_week_but_no_zero_in_last_two_week]"
   ]
  },
  {
   "cell_type": "code",
   "execution_count": null,
   "metadata": {
    "collapsed": false
   },
   "outputs": [],
   "source": [
    "print len(ids_zero_morethan1_count_in_last_three_week_and_two_week)"
   ]
  },
  {
   "cell_type": "code",
   "execution_count": null,
   "metadata": {
    "collapsed": true
   },
   "outputs": [],
   "source": [
    "ids_stable_period_1_2_3 = []\n",
    "ids_stable_period_1_2_3.extend(ids_stable_period_1)\n",
    "ids_stable_period_1_2_3.extend(ids_stable_period_2)\n",
    "ids_stable_period_1_2_3.extend(ids_stable_period_3)"
   ]
  },
  {
   "cell_type": "markdown",
   "metadata": {},
   "source": [
    "# 波动模型"
   ]
  },
  {
   "cell_type": "code",
   "execution_count": null,
   "metadata": {
    "collapsed": true
   },
   "outputs": [],
   "source": [
    "## 先对每周波动做归一化 ：每天的值除以对应的当周的均值"
   ]
  },
  {
   "cell_type": "markdown",
   "metadata": {},
   "source": [
    "# int 转化为 float\n",
    "indexlist = shop_info.index.tolist()\n",
    "for day in dateRange('2015-07-01','2016-10-31'):\n",
    "    print day\n",
    "    for id in indexlist:\n",
    "        shop_info.loc[id,day] = float(shop_info.loc[id,day])\n",
    "        \n"
   ]
  },
  {
   "cell_type": "markdown",
   "metadata": {},
   "source": [
    "for day in dateRange('2015-07-07','2016-10-31'):\n",
    "    wk_number = date_to_week(day)\n",
    "    for id in shop_info.index.tolist():\n",
    "        if shop_info.loc[id,day] > 0 :\n",
    "            shop_info.loc[id,day] /= shop_info.loc[id,'wk_'+str(wk_number)]\n",
    "            "
   ]
  },
  {
   "cell_type": "code",
   "execution_count": null,
   "metadata": {
    "collapsed": false
   },
   "outputs": [],
   "source": [
    "shop_info.loc[:,'2015-07-07':'2016-10-31'].head()"
   ]
  },
  {
   "cell_type": "markdown",
   "metadata": {},
   "source": [
    "### related ids\n",
    "ids_zero_morethan1_count_in_last_three_week\n",
    "ids_zero_morethan1_count_in_last_three_week_but_no_zero_in_last_two_week\n",
    "ids_zero_morethan1_count_in_last_three_week_and_two_week\n",
    "ids_no_zero_count_in_last_three_week\n",
    "ids_zero_1_count_in_last_three_week\n",
    "ids_low_count_in_last_3_wk\n",
    "shop_info['wave_range']\n",
    "ids_cos_sim_low_3_wk(不用这个)\n",
    "ids_cos_sim_high_3_wk\n",
    "ids_cos_sim_high_23_wk\n",
    "ids_cos_sim_low_3_wk_other\n",
    "ids_stable_period_1\n",
    "ids_stable_period_2\n",
    "ids_stable_period_3\n",
    "ids_stable_period_1_2_3\n",
    "ids_no_stable_period\n"
   ]
  },
  {
   "cell_type": "code",
   "execution_count": null,
   "metadata": {
    "collapsed": false
   },
   "outputs": [],
   "source": []
  },
  {
   "cell_type": "markdown",
   "metadata": {},
   "source": [
    "## 三个wave model\n",
    "## wave_model1 : 根据三周余弦相似度计算"
   ]
  },
  {
   "cell_type": "markdown",
   "metadata": {},
   "source": [
    "### 三周余弦相似度大于0.98者  ids_cos_sim_high_3_wk 计算三周均值wave model"
   ]
  },
  {
   "cell_type": "code",
   "execution_count": null,
   "metadata": {
    "collapsed": true
   },
   "outputs": [],
   "source": [
    "start_day = (pd.to_datetime('2016-11-01').date() - datetime.timedelta(21)).strftime(\"%Y-%m-%d\") \n",
    "for day_number in range(1,8): # 1~7\n",
    "    shop_info.loc[:,'wave_model1_'+str(day_number)] = 0.0\n",
    "    predict_day = '2016-11-'+'%02d' %  day_number\n",
    "    predict_day = pd.to_datetime(predict_day).date()\n",
    "    day_list = [day for day in dateRange(start_day,'2016-10-31') if (predict_day - pd.to_datetime(day).date()).days % 7 == 0]\n",
    "    shop_info.loc[ids_cos_sim_high_3_wk,'wave_model1_'+str(day_number)] = shop_info.loc[ids_cos_sim_high_3_wk,day_list].mean(axis=1)\n",
    "\n",
    "#shop_info['wave_model1_1']"
   ]
  },
  {
   "cell_type": "markdown",
   "metadata": {},
   "source": [
    "#### 余弦相似度 第一周大于0.95，第二三周大于0.98者 ids_cos_sim_high_23_wk ;  wave model 取 0.1*1＋ 0.25* 2+0.25*3"
   ]
  },
  {
   "cell_type": "code",
   "execution_count": null,
   "metadata": {
    "collapsed": false
   },
   "outputs": [],
   "source": [
    "start_day = (pd.to_datetime('2016-11-01').date() - datetime.timedelta(21)).strftime(\"%Y-%m-%d\") \n",
    "for day_number in range(1,8): # 1~7\n",
    "    #shop_info.loc[:,'wave_model1_'+str(day_number)] = 0.0\n",
    "    predict_day = '2016-11-'+'%02d' %  day_number\n",
    "    predict_day = pd.to_datetime(predict_day).date()\n",
    "    day_list = [day for day in dateRange(start_day,'2016-10-31') if (predict_day - pd.to_datetime(day).date()).days % 7 == 0]\n",
    "    for id in ids_cos_sim_high_23_wk:\n",
    "        shop_info.loc[id,'wave_model1_'+str(day_number)] = (2*shop_info.loc[id,day_list][0]+5*shop_info.loc[id,day_list][1]+5*shop_info.loc[id,day_list][2])/12.0\n",
    "    "
   ]
  },
  {
   "cell_type": "code",
   "execution_count": null,
   "metadata": {
    "collapsed": false,
    "scrolled": true
   },
   "outputs": [],
   "source": [
    "shop_info['wave_model1_1']"
   ]
  },
  {
   "cell_type": "markdown",
   "metadata": {},
   "source": [
    "#### 余弦相似度低者分类  ids_cos_sim_low_3_wk_other   wave model 取 1:1:1 ?? 后3周权重较低"
   ]
  },
  {
   "cell_type": "code",
   "execution_count": null,
   "metadata": {
    "collapsed": true
   },
   "outputs": [],
   "source": [
    "start_day = (pd.to_datetime('2016-11-01').date() - datetime.timedelta(21)).strftime(\"%Y-%m-%d\") \n",
    "for day_number in range(1,8): # 1~7\n",
    "    \n",
    "    predict_day = '2016-11-'+'%02d' %  day_number\n",
    "    predict_day = pd.to_datetime(predict_day).date()\n",
    "    day_list = [day for day in dateRange(start_day,'2016-10-31') if (predict_day - pd.to_datetime(day).date()).days % 7 == 0]\n",
    "    shop_info.loc[ids_cos_sim_low_3_wk_other,'wave_model1_'+str(day_number)] = shop_info.loc[ids_cos_sim_low_3_wk_other,day_list].mean(axis=1)\n",
    "\n",
    "#shop_info['wave_model1_1']"
   ]
  },
  {
   "cell_type": "markdown",
   "metadata": {},
   "source": [
    "## wave_model2 : 根据同个商家id稳定部分计算"
   ]
  },
  {
   "cell_type": "code",
   "execution_count": null,
   "metadata": {
    "collapsed": true
   },
   "outputs": [],
   "source": [
    "for day_number in range(1,8): # 1~7\n",
    "    shop_info.loc[:,'wave_model2_'+str(day_number)] = 0.0\n",
    "def get_avg_from_stable_period_(id,n):\n",
    "    wks = shop_info.loc[id,'stable_period_'+str(n)]\n",
    "    day_list = []\n",
    "    for wk_pair in wks:\n",
    "        wk_start_date = week_to_date(wk_pair[0])[0]\n",
    "        wk_end_date = week_to_date(wk_pair[1])[1]\n",
    "        day_list.extend(dateRange(wk_start_date,wk_end_date))\n",
    "    #print day_list\n",
    "    #print len(day_list)\n",
    "    if len(day_list) % 7 != 0 : print 'ERROR'\n",
    "    #week_number = len(day_list)/7\n",
    "    for day_number in range(1,8): # 1~7\n",
    "        predict_day = '2016-11-'+'%02d' %  day_number\n",
    "        predict_day = pd.to_datetime(predict_day).date()\n",
    "        train_day_list = [day for day in day_list if (predict_day - pd.to_datetime(day).date()).days % 7 == 0]\n",
    "        #print train_day_list\n",
    "        shop_info.loc[id,'wave_model2_'+str(day_number)] =  shop_info.loc[id,train_day_list].mean()     \n",
    "\n",
    "for id in ids_stable_period_1:\n",
    "    get_avg_from_stable_period_(id,1)\n",
    "for id in ids_stable_period_2:\n",
    "    get_avg_from_stable_period_(id,2)\n",
    "for id in ids_stable_period_3:\n",
    "    get_avg_from_stable_period_(id,3)\n",
    "        \n"
   ]
  },
  {
   "cell_type": "code",
   "execution_count": null,
   "metadata": {
    "collapsed": true
   },
   "outputs": [],
   "source": [
    "shop_info.loc[:,'wave_model2_1':'wave_model2_7']"
   ]
  },
  {
   "cell_type": "markdown",
   "metadata": {},
   "source": [
    "## wave_model3 : 根据这个商家的近似（地点、类型、规模、过去曲线）而且稳定商家来预测不稳定商家"
   ]
  },
  {
   "cell_type": "code",
   "execution_count": null,
   "metadata": {
    "collapsed": true
   },
   "outputs": [],
   "source": []
  },
  {
   "cell_type": "markdown",
   "metadata": {},
   "source": [
    "## 最后根据 不同的分类来按照不同的比例融合 wave_model_total"
   ]
  },
  {
   "cell_type": "code",
   "execution_count": null,
   "metadata": {
    "collapsed": false
   },
   "outputs": [],
   "source": [
    "for i in range(1,8):\n",
    "    shop_info['wave_model_total_'+str(i)] = 0.0"
   ]
  },
  {
   "cell_type": "markdown",
   "metadata": {},
   "source": [
    "#### ids_cos_sim_high_3_wk"
   ]
  },
  {
   "cell_type": "code",
   "execution_count": null,
   "metadata": {
    "collapsed": true
   },
   "outputs": [],
   "source": [
    "for i in range(1,8):\n",
    "    for id in ids_cos_sim_high_3_wk:       \n",
    "        shop_info.loc[id,'wave_model_total_'+str(i)] = shop_info.loc[id,'wave_model1_'+str(i)]\n",
    "#print shop_info.loc[ids_cos_sim_high_3_wk,'wave_model_total_1':'wave_model_total_7']"
   ]
  },
  {
   "cell_type": "markdown",
   "metadata": {},
   "source": [
    "\n",
    "#### ids_zero_morethan1_count_in_last_three_week_but_no_zero_in_last_two_week 把三周均值改为两周均值"
   ]
  },
  {
   "cell_type": "code",
   "execution_count": null,
   "metadata": {
    "collapsed": false
   },
   "outputs": [],
   "source": [
    "start_day = (pd.to_datetime('2016-11-01').date() - datetime.timedelta(14)).strftime(\"%Y-%m-%d\") \n",
    "for id in ids_zero_morethan1_count_in_last_three_week_but_no_zero_in_last_two_week:\n",
    "    for day_number in range(1,8): # 1~7\n",
    "        predict_day = '2016-11-'+'%02d' %  day_number\n",
    "        predict_day = pd.to_datetime(predict_day).date()\n",
    "        day_list = [day for day in dateRange(start_day,'2016-10-31') if (predict_day - pd.to_datetime(day).date()).days % 7 == 0]\n",
    "        shop_info.loc[id,'wave_model1_'+str(day_number)] = shop_info.loc[id,day_list].mean()\n",
    "\n",
    "    if id in ids_stable_period_1_2_3:\n",
    "        for i in range(1,8):\n",
    "            shop_info.loc[id,'wave_model_total_'+str(i)] = 0.5* shop_info.loc[id,'wave_model1_'+str(i)] + 0.5* shop_info.loc[id,'wave_model2_'+str(i)] \n",
    "           \n",
    "    else :\n",
    "        for i in range(1,8):\n",
    "            shop_info.loc[id,'wave_model_total_'+str(i)] = shop_info.loc[id,'wave_model1_'+str(i)]\n",
    "        "
   ]
  },
  {
   "cell_type": "code",
   "execution_count": null,
   "metadata": {
    "collapsed": false
   },
   "outputs": [],
   "source": [
    "#shop_info.loc[ids_zero_morethan1_count_in_last_three_week_but_no_zero_in_last_two_week,:]"
   ]
  },
  {
   "cell_type": "markdown",
   "metadata": {},
   "source": [
    "#### ids_zero_morethan1_count_in_last_three_week_and_two_week"
   ]
  },
  {
   "cell_type": "code",
   "execution_count": null,
   "metadata": {
    "collapsed": false
   },
   "outputs": [],
   "source": [
    "for id in ids_zero_morethan1_count_in_last_three_week_and_two_week:\n",
    "    if id in ids_stable_period_1_2_3:\n",
    "        for i in range(1,8):\n",
    "            shop_info.loc[id,'wave_model_total_'+str(i)] = shop_info.loc[id,'wave_model2_'+str(i)]\n",
    "    else: # 最好根据相似商家融合\n",
    "        for i in range(1,8):\n",
    "            shop_info.loc[id,'wave_model_total_'+str(i)] = shop_info.loc[id,'wave_model1_'+str(i)]\n",
    "        "
   ]
  },
  {
   "cell_type": "code",
   "execution_count": null,
   "metadata": {
    "collapsed": false
   },
   "outputs": [],
   "source": [
    "shop_info.loc[ids_zero_morethan1_count_in_last_three_week_and_two_week,'wave_model2_1':'wave_model2_7']"
   ]
  },
  {
   "cell_type": "markdown",
   "metadata": {},
   "source": [
    "ids_cos_sim_high_23_wk\n",
    "ids_cos_sim_low_3_wk_other\n",
    "ids_stable_period_1_2_3\n",
    "ids_no_stable_period\n",
    "#### ids_cos_sim_high_23_wk & ids_no_zero_count_in_last_three_week  & ids_stable_period_1_2_3"
   ]
  },
  {
   "cell_type": "code",
   "execution_count": null,
   "metadata": {
    "collapsed": true
   },
   "outputs": [],
   "source": [
    "for id in [i for i in ids_no_zero_count_in_last_three_week if i in ids_cos_sim_high_23_wk and i in ids_stable_period_1_2_3]:\n",
    "    for i in range(1,8):\n",
    "        shop_info.loc[id,'wave_model_total_'+str(i)] = 0.6* shop_info.loc[id,'wave_model1_'+str(i)] + 0.4* shop_info.loc[id,'wave_model2_'+str(i)] \n",
    "           "
   ]
  },
  {
   "cell_type": "markdown",
   "metadata": {},
   "source": [
    "#### ids_cos_sim_high_23_wk & ids_no_zero_count_in_last_three_week  & ids_no_stable_period"
   ]
  },
  {
   "cell_type": "code",
   "execution_count": null,
   "metadata": {
    "collapsed": true
   },
   "outputs": [],
   "source": [
    "for id in [i for i in ids_no_zero_count_in_last_three_week if i in ids_cos_sim_high_23_wk and i in ids_no_stable_period]:\n",
    "    for i in range(1,8):\n",
    "        shop_info.loc[id,'wave_model_total_'+str(i)] =  shop_info.loc[id,'wave_model1_'+str(i)]"
   ]
  },
  {
   "cell_type": "markdown",
   "metadata": {},
   "source": [
    "#### ids_cos_sim_low_3_wk_other & ids_no_zero_count_in_last_three_week  & ids_stable_period_1_2_3"
   ]
  },
  {
   "cell_type": "code",
   "execution_count": null,
   "metadata": {
    "collapsed": true
   },
   "outputs": [],
   "source": [
    "for id in [i for i in ids_no_zero_count_in_last_three_week if i in ids_cos_sim_low_3_wk_other and i in ids_stable_period_1_2_3]:\n",
    "    for i in range(1,8):\n",
    "        shop_info.loc[id,'wave_model_total_'+str(i)] = 0.3* shop_info.loc[id,'wave_model1_'+str(i)] + 0.7* shop_info.loc[id,'wave_model2_'+str(i)] \n",
    "        "
   ]
  },
  {
   "cell_type": "markdown",
   "metadata": {},
   "source": [
    "#### ids_cos_sim_low_3_wk_other & ids_no_zero_count_in_last_three_week  & ids_no_stable_period"
   ]
  },
  {
   "cell_type": "code",
   "execution_count": null,
   "metadata": {
    "collapsed": true
   },
   "outputs": [],
   "source": [
    "for id in [i for i in ids_no_zero_count_in_last_three_week if i in ids_cos_sim_low_3_wk_other and i in ids_no_stable_period]:\n",
    "    for i in range(1,8):\n",
    "        shop_info.loc[id,'wave_model_total_'+str(i)] =  shop_info.loc[id,'wave_model1_'+str(i)] "
   ]
  },
  {
   "cell_type": "code",
   "execution_count": null,
   "metadata": {
    "collapsed": false,
    "scrolled": true
   },
   "outputs": [],
   "source": [
    "shop_info['wave_model_total_3']"
   ]
  },
  {
   "cell_type": "markdown",
   "metadata": {},
   "source": [
    "## 低值 boost"
   ]
  },
  {
   "cell_type": "markdown",
   "metadata": {},
   "source": [
    "for id in ids_cos_sim_low_3_wk_other:\n",
    "    for i in range(1,8):\n",
    "        if shop_info.loc[id,'wave_model_total_'+str(i)] <50:\n",
    "            print 'old',shop_info.loc[id,'wave_model_total_'+str(i)]\n",
    "            shop_info.loc[id,'wave_model_total_'+str(i)] *= (50-shop_info.loc[id,'wave_model_total_'+str(i)])*0.2/50 + 1\n",
    "            print 'new',shop_info.loc[id,'wave_model_total_'+str(i)]"
   ]
  },
  {
   "cell_type": "markdown",
   "metadata": {},
   "source": [
    "# 趋势模型"
   ]
  },
  {
   "cell_type": "code",
   "execution_count": null,
   "metadata": {
    "collapsed": true
   },
   "outputs": [],
   "source": [
    "shop_info['ratio'] = shop_info.loc[:,'wk_66':'wk_68'].mean(axis = 1) / shop_info.loc[:,'wave_model_total_1':'wave_model_total_7'].mean(axis = 1)"
   ]
  },
  {
   "cell_type": "code",
   "execution_count": null,
   "metadata": {
    "collapsed": false,
    "scrolled": true
   },
   "outputs": [],
   "source": [
    "shop_info['wave_model_total_1'] "
   ]
  },
  {
   "cell_type": "code",
   "execution_count": null,
   "metadata": {
    "collapsed": true
   },
   "outputs": [],
   "source": [
    "for i in range(1,8):\n",
    "    shop_info.loc[:,'wave_model_total_'+str(i)] = shop_info['ratio'] * shop_info.loc[:,'wave_model_total_'+str(i)]"
   ]
  },
  {
   "cell_type": "code",
   "execution_count": null,
   "metadata": {
    "collapsed": false
   },
   "outputs": [],
   "source": [
    "for i in range(1,15):\n",
    "    if i <= 7:\n",
    "        shop_info.loc[:,'predict_day_'+str(i)] = shop_info.loc[:,'wave_model_total_'+str(i)]\n",
    "    else:\n",
    "        shop_info.loc[:,'predict_day_'+str(i)] = shop_info.loc[:,'wave_model_total_'+str(i-7)]"
   ]
  },
  {
   "cell_type": "code",
   "execution_count": null,
   "metadata": {
    "collapsed": false,
    "scrolled": true
   },
   "outputs": [],
   "source": [
    "shop_info.loc[:,'predict_day_1':'predict_day_14']"
   ]
  },
  {
   "cell_type": "markdown",
   "metadata": {},
   "source": [
    "## 双十一 boost"
   ]
  },
  {
   "cell_type": "markdown",
   "metadata": {},
   "source": [
    "# 天气模型"
   ]
  },
  {
   "cell_type": "markdown",
   "metadata": {},
   "source": [
    "# 浏览量模型"
   ]
  },
  {
   "cell_type": "code",
   "execution_count": null,
   "metadata": {
    "collapsed": true
   },
   "outputs": [],
   "source": [
    "# 可视化预测结果"
   ]
  },
  {
   "cell_type": "markdown",
   "metadata": {},
   "source": [
    "# 导出结果"
   ]
  },
  {
   "cell_type": "code",
   "execution_count": 48,
   "metadata": {
    "collapsed": true
   },
   "outputs": [],
   "source": [
    "for i in range(1,15):\n",
    "    shop_info.loc[:,'predict_day_'+str(i)] = shop_info.loc[:,'predict_day_'+str(i)].apply(lambda x : int(x+0.5))\n",
    "    "
   ]
  },
  {
   "cell_type": "code",
   "execution_count": 49,
   "metadata": {
    "collapsed": false,
    "scrolled": true
   },
   "outputs": [
    {
     "data": {
      "text/html": [
       "<div>\n",
       "<table border=\"1\" class=\"dataframe\">\n",
       "  <thead>\n",
       "    <tr style=\"text-align: right;\">\n",
       "      <th></th>\n",
       "      <th>predict_day_1</th>\n",
       "      <th>predict_day_2</th>\n",
       "      <th>predict_day_3</th>\n",
       "      <th>predict_day_4</th>\n",
       "      <th>predict_day_5</th>\n",
       "      <th>predict_day_6</th>\n",
       "      <th>predict_day_7</th>\n",
       "      <th>predict_day_8</th>\n",
       "      <th>predict_day_9</th>\n",
       "      <th>predict_day_10</th>\n",
       "      <th>predict_day_11</th>\n",
       "      <th>predict_day_12</th>\n",
       "      <th>predict_day_13</th>\n",
       "      <th>predict_day_14</th>\n",
       "    </tr>\n",
       "  </thead>\n",
       "  <tbody>\n",
       "    <tr>\n",
       "      <th>1</th>\n",
       "      <td>251</td>\n",
       "      <td>196</td>\n",
       "      <td>220</td>\n",
       "      <td>244</td>\n",
       "      <td>239</td>\n",
       "      <td>263</td>\n",
       "      <td>201</td>\n",
       "      <td>251</td>\n",
       "      <td>196</td>\n",
       "      <td>220</td>\n",
       "      <td>244</td>\n",
       "      <td>239</td>\n",
       "      <td>263</td>\n",
       "      <td>201</td>\n",
       "    </tr>\n",
       "    <tr>\n",
       "      <th>2</th>\n",
       "      <td>47</td>\n",
       "      <td>50</td>\n",
       "      <td>44</td>\n",
       "      <td>47</td>\n",
       "      <td>62</td>\n",
       "      <td>64</td>\n",
       "      <td>48</td>\n",
       "      <td>47</td>\n",
       "      <td>50</td>\n",
       "      <td>44</td>\n",
       "      <td>47</td>\n",
       "      <td>62</td>\n",
       "      <td>64</td>\n",
       "      <td>48</td>\n",
       "    </tr>\n",
       "    <tr>\n",
       "      <th>3</th>\n",
       "      <td>72</td>\n",
       "      <td>71</td>\n",
       "      <td>74</td>\n",
       "      <td>92</td>\n",
       "      <td>106</td>\n",
       "      <td>105</td>\n",
       "      <td>66</td>\n",
       "      <td>72</td>\n",
       "      <td>71</td>\n",
       "      <td>74</td>\n",
       "      <td>92</td>\n",
       "      <td>106</td>\n",
       "      <td>105</td>\n",
       "      <td>66</td>\n",
       "    </tr>\n",
       "    <tr>\n",
       "      <th>4</th>\n",
       "      <td>89</td>\n",
       "      <td>110</td>\n",
       "      <td>62</td>\n",
       "      <td>104</td>\n",
       "      <td>197</td>\n",
       "      <td>206</td>\n",
       "      <td>95</td>\n",
       "      <td>89</td>\n",
       "      <td>110</td>\n",
       "      <td>62</td>\n",
       "      <td>104</td>\n",
       "      <td>197</td>\n",
       "      <td>206</td>\n",
       "      <td>95</td>\n",
       "    </tr>\n",
       "    <tr>\n",
       "      <th>5</th>\n",
       "      <td>256</td>\n",
       "      <td>212</td>\n",
       "      <td>229</td>\n",
       "      <td>194</td>\n",
       "      <td>189</td>\n",
       "      <td>195</td>\n",
       "      <td>287</td>\n",
       "      <td>256</td>\n",
       "      <td>212</td>\n",
       "      <td>229</td>\n",
       "      <td>194</td>\n",
       "      <td>189</td>\n",
       "      <td>195</td>\n",
       "      <td>287</td>\n",
       "    </tr>\n",
       "    <tr>\n",
       "      <th>6</th>\n",
       "      <td>97</td>\n",
       "      <td>97</td>\n",
       "      <td>99</td>\n",
       "      <td>119</td>\n",
       "      <td>103</td>\n",
       "      <td>105</td>\n",
       "      <td>97</td>\n",
       "      <td>97</td>\n",
       "      <td>97</td>\n",
       "      <td>99</td>\n",
       "      <td>119</td>\n",
       "      <td>103</td>\n",
       "      <td>105</td>\n",
       "      <td>97</td>\n",
       "    </tr>\n",
       "    <tr>\n",
       "      <th>7</th>\n",
       "      <td>122</td>\n",
       "      <td>101</td>\n",
       "      <td>117</td>\n",
       "      <td>133</td>\n",
       "      <td>167</td>\n",
       "      <td>190</td>\n",
       "      <td>113</td>\n",
       "      <td>122</td>\n",
       "      <td>101</td>\n",
       "      <td>117</td>\n",
       "      <td>133</td>\n",
       "      <td>167</td>\n",
       "      <td>190</td>\n",
       "      <td>113</td>\n",
       "    </tr>\n",
       "    <tr>\n",
       "      <th>8</th>\n",
       "      <td>65</td>\n",
       "      <td>75</td>\n",
       "      <td>67</td>\n",
       "      <td>65</td>\n",
       "      <td>72</td>\n",
       "      <td>70</td>\n",
       "      <td>56</td>\n",
       "      <td>65</td>\n",
       "      <td>75</td>\n",
       "      <td>67</td>\n",
       "      <td>65</td>\n",
       "      <td>72</td>\n",
       "      <td>70</td>\n",
       "      <td>56</td>\n",
       "    </tr>\n",
       "    <tr>\n",
       "      <th>9</th>\n",
       "      <td>205</td>\n",
       "      <td>204</td>\n",
       "      <td>221</td>\n",
       "      <td>203</td>\n",
       "      <td>254</td>\n",
       "      <td>292</td>\n",
       "      <td>237</td>\n",
       "      <td>205</td>\n",
       "      <td>204</td>\n",
       "      <td>221</td>\n",
       "      <td>203</td>\n",
       "      <td>254</td>\n",
       "      <td>292</td>\n",
       "      <td>237</td>\n",
       "    </tr>\n",
       "    <tr>\n",
       "      <th>10</th>\n",
       "      <td>88</td>\n",
       "      <td>113</td>\n",
       "      <td>82</td>\n",
       "      <td>85</td>\n",
       "      <td>91</td>\n",
       "      <td>111</td>\n",
       "      <td>96</td>\n",
       "      <td>88</td>\n",
       "      <td>113</td>\n",
       "      <td>82</td>\n",
       "      <td>85</td>\n",
       "      <td>91</td>\n",
       "      <td>111</td>\n",
       "      <td>96</td>\n",
       "    </tr>\n",
       "    <tr>\n",
       "      <th>11</th>\n",
       "      <td>96</td>\n",
       "      <td>96</td>\n",
       "      <td>86</td>\n",
       "      <td>90</td>\n",
       "      <td>64</td>\n",
       "      <td>68</td>\n",
       "      <td>95</td>\n",
       "      <td>96</td>\n",
       "      <td>96</td>\n",
       "      <td>86</td>\n",
       "      <td>90</td>\n",
       "      <td>64</td>\n",
       "      <td>68</td>\n",
       "      <td>95</td>\n",
       "    </tr>\n",
       "    <tr>\n",
       "      <th>12</th>\n",
       "      <td>43</td>\n",
       "      <td>55</td>\n",
       "      <td>63</td>\n",
       "      <td>61</td>\n",
       "      <td>75</td>\n",
       "      <td>80</td>\n",
       "      <td>52</td>\n",
       "      <td>43</td>\n",
       "      <td>55</td>\n",
       "      <td>63</td>\n",
       "      <td>61</td>\n",
       "      <td>75</td>\n",
       "      <td>80</td>\n",
       "      <td>52</td>\n",
       "    </tr>\n",
       "    <tr>\n",
       "      <th>13</th>\n",
       "      <td>250</td>\n",
       "      <td>253</td>\n",
       "      <td>237</td>\n",
       "      <td>247</td>\n",
       "      <td>221</td>\n",
       "      <td>243</td>\n",
       "      <td>250</td>\n",
       "      <td>250</td>\n",
       "      <td>253</td>\n",
       "      <td>237</td>\n",
       "      <td>247</td>\n",
       "      <td>221</td>\n",
       "      <td>243</td>\n",
       "      <td>250</td>\n",
       "    </tr>\n",
       "    <tr>\n",
       "      <th>14</th>\n",
       "      <td>58</td>\n",
       "      <td>57</td>\n",
       "      <td>52</td>\n",
       "      <td>45</td>\n",
       "      <td>66</td>\n",
       "      <td>50</td>\n",
       "      <td>61</td>\n",
       "      <td>58</td>\n",
       "      <td>57</td>\n",
       "      <td>52</td>\n",
       "      <td>45</td>\n",
       "      <td>66</td>\n",
       "      <td>50</td>\n",
       "      <td>61</td>\n",
       "    </tr>\n",
       "    <tr>\n",
       "      <th>15</th>\n",
       "      <td>117</td>\n",
       "      <td>121</td>\n",
       "      <td>128</td>\n",
       "      <td>141</td>\n",
       "      <td>190</td>\n",
       "      <td>198</td>\n",
       "      <td>130</td>\n",
       "      <td>117</td>\n",
       "      <td>121</td>\n",
       "      <td>128</td>\n",
       "      <td>141</td>\n",
       "      <td>190</td>\n",
       "      <td>198</td>\n",
       "      <td>130</td>\n",
       "    </tr>\n",
       "    <tr>\n",
       "      <th>16</th>\n",
       "      <td>46</td>\n",
       "      <td>43</td>\n",
       "      <td>46</td>\n",
       "      <td>57</td>\n",
       "      <td>47</td>\n",
       "      <td>44</td>\n",
       "      <td>41</td>\n",
       "      <td>46</td>\n",
       "      <td>43</td>\n",
       "      <td>46</td>\n",
       "      <td>57</td>\n",
       "      <td>47</td>\n",
       "      <td>44</td>\n",
       "      <td>41</td>\n",
       "    </tr>\n",
       "    <tr>\n",
       "      <th>17</th>\n",
       "      <td>84</td>\n",
       "      <td>80</td>\n",
       "      <td>82</td>\n",
       "      <td>92</td>\n",
       "      <td>125</td>\n",
       "      <td>111</td>\n",
       "      <td>83</td>\n",
       "      <td>84</td>\n",
       "      <td>80</td>\n",
       "      <td>82</td>\n",
       "      <td>92</td>\n",
       "      <td>125</td>\n",
       "      <td>111</td>\n",
       "      <td>83</td>\n",
       "    </tr>\n",
       "    <tr>\n",
       "      <th>18</th>\n",
       "      <td>76</td>\n",
       "      <td>71</td>\n",
       "      <td>86</td>\n",
       "      <td>93</td>\n",
       "      <td>107</td>\n",
       "      <td>100</td>\n",
       "      <td>85</td>\n",
       "      <td>76</td>\n",
       "      <td>71</td>\n",
       "      <td>86</td>\n",
       "      <td>93</td>\n",
       "      <td>107</td>\n",
       "      <td>100</td>\n",
       "      <td>85</td>\n",
       "    </tr>\n",
       "    <tr>\n",
       "      <th>19</th>\n",
       "      <td>146</td>\n",
       "      <td>139</td>\n",
       "      <td>158</td>\n",
       "      <td>144</td>\n",
       "      <td>191</td>\n",
       "      <td>219</td>\n",
       "      <td>150</td>\n",
       "      <td>146</td>\n",
       "      <td>139</td>\n",
       "      <td>158</td>\n",
       "      <td>144</td>\n",
       "      <td>191</td>\n",
       "      <td>219</td>\n",
       "      <td>150</td>\n",
       "    </tr>\n",
       "    <tr>\n",
       "      <th>20</th>\n",
       "      <td>164</td>\n",
       "      <td>149</td>\n",
       "      <td>153</td>\n",
       "      <td>147</td>\n",
       "      <td>139</td>\n",
       "      <td>132</td>\n",
       "      <td>162</td>\n",
       "      <td>164</td>\n",
       "      <td>149</td>\n",
       "      <td>153</td>\n",
       "      <td>147</td>\n",
       "      <td>139</td>\n",
       "      <td>132</td>\n",
       "      <td>162</td>\n",
       "    </tr>\n",
       "    <tr>\n",
       "      <th>21</th>\n",
       "      <td>68</td>\n",
       "      <td>72</td>\n",
       "      <td>70</td>\n",
       "      <td>84</td>\n",
       "      <td>131</td>\n",
       "      <td>123</td>\n",
       "      <td>79</td>\n",
       "      <td>68</td>\n",
       "      <td>72</td>\n",
       "      <td>70</td>\n",
       "      <td>84</td>\n",
       "      <td>131</td>\n",
       "      <td>123</td>\n",
       "      <td>79</td>\n",
       "    </tr>\n",
       "    <tr>\n",
       "      <th>22</th>\n",
       "      <td>96</td>\n",
       "      <td>113</td>\n",
       "      <td>99</td>\n",
       "      <td>126</td>\n",
       "      <td>121</td>\n",
       "      <td>119</td>\n",
       "      <td>103</td>\n",
       "      <td>96</td>\n",
       "      <td>113</td>\n",
       "      <td>99</td>\n",
       "      <td>126</td>\n",
       "      <td>121</td>\n",
       "      <td>119</td>\n",
       "      <td>103</td>\n",
       "    </tr>\n",
       "    <tr>\n",
       "      <th>23</th>\n",
       "      <td>26</td>\n",
       "      <td>28</td>\n",
       "      <td>27</td>\n",
       "      <td>30</td>\n",
       "      <td>14</td>\n",
       "      <td>11</td>\n",
       "      <td>30</td>\n",
       "      <td>26</td>\n",
       "      <td>28</td>\n",
       "      <td>27</td>\n",
       "      <td>30</td>\n",
       "      <td>14</td>\n",
       "      <td>11</td>\n",
       "      <td>30</td>\n",
       "    </tr>\n",
       "    <tr>\n",
       "      <th>24</th>\n",
       "      <td>71</td>\n",
       "      <td>72</td>\n",
       "      <td>78</td>\n",
       "      <td>92</td>\n",
       "      <td>112</td>\n",
       "      <td>116</td>\n",
       "      <td>66</td>\n",
       "      <td>71</td>\n",
       "      <td>72</td>\n",
       "      <td>78</td>\n",
       "      <td>92</td>\n",
       "      <td>112</td>\n",
       "      <td>116</td>\n",
       "      <td>66</td>\n",
       "    </tr>\n",
       "    <tr>\n",
       "      <th>25</th>\n",
       "      <td>114</td>\n",
       "      <td>114</td>\n",
       "      <td>109</td>\n",
       "      <td>138</td>\n",
       "      <td>149</td>\n",
       "      <td>129</td>\n",
       "      <td>109</td>\n",
       "      <td>114</td>\n",
       "      <td>114</td>\n",
       "      <td>109</td>\n",
       "      <td>138</td>\n",
       "      <td>149</td>\n",
       "      <td>129</td>\n",
       "      <td>109</td>\n",
       "    </tr>\n",
       "    <tr>\n",
       "      <th>26</th>\n",
       "      <td>58</td>\n",
       "      <td>69</td>\n",
       "      <td>72</td>\n",
       "      <td>61</td>\n",
       "      <td>138</td>\n",
       "      <td>144</td>\n",
       "      <td>56</td>\n",
       "      <td>58</td>\n",
       "      <td>69</td>\n",
       "      <td>72</td>\n",
       "      <td>61</td>\n",
       "      <td>138</td>\n",
       "      <td>144</td>\n",
       "      <td>56</td>\n",
       "    </tr>\n",
       "    <tr>\n",
       "      <th>27</th>\n",
       "      <td>84</td>\n",
       "      <td>87</td>\n",
       "      <td>86</td>\n",
       "      <td>82</td>\n",
       "      <td>87</td>\n",
       "      <td>84</td>\n",
       "      <td>91</td>\n",
       "      <td>84</td>\n",
       "      <td>87</td>\n",
       "      <td>86</td>\n",
       "      <td>82</td>\n",
       "      <td>87</td>\n",
       "      <td>84</td>\n",
       "      <td>91</td>\n",
       "    </tr>\n",
       "    <tr>\n",
       "      <th>28</th>\n",
       "      <td>61</td>\n",
       "      <td>60</td>\n",
       "      <td>65</td>\n",
       "      <td>76</td>\n",
       "      <td>88</td>\n",
       "      <td>91</td>\n",
       "      <td>60</td>\n",
       "      <td>61</td>\n",
       "      <td>60</td>\n",
       "      <td>65</td>\n",
       "      <td>76</td>\n",
       "      <td>88</td>\n",
       "      <td>91</td>\n",
       "      <td>60</td>\n",
       "    </tr>\n",
       "    <tr>\n",
       "      <th>29</th>\n",
       "      <td>82</td>\n",
       "      <td>85</td>\n",
       "      <td>92</td>\n",
       "      <td>123</td>\n",
       "      <td>198</td>\n",
       "      <td>188</td>\n",
       "      <td>99</td>\n",
       "      <td>82</td>\n",
       "      <td>85</td>\n",
       "      <td>92</td>\n",
       "      <td>123</td>\n",
       "      <td>198</td>\n",
       "      <td>188</td>\n",
       "      <td>99</td>\n",
       "    </tr>\n",
       "    <tr>\n",
       "      <th>30</th>\n",
       "      <td>33</td>\n",
       "      <td>46</td>\n",
       "      <td>42</td>\n",
       "      <td>49</td>\n",
       "      <td>48</td>\n",
       "      <td>59</td>\n",
       "      <td>45</td>\n",
       "      <td>33</td>\n",
       "      <td>46</td>\n",
       "      <td>42</td>\n",
       "      <td>49</td>\n",
       "      <td>48</td>\n",
       "      <td>59</td>\n",
       "      <td>45</td>\n",
       "    </tr>\n",
       "    <tr>\n",
       "      <th>...</th>\n",
       "      <td>...</td>\n",
       "      <td>...</td>\n",
       "      <td>...</td>\n",
       "      <td>...</td>\n",
       "      <td>...</td>\n",
       "      <td>...</td>\n",
       "      <td>...</td>\n",
       "      <td>...</td>\n",
       "      <td>...</td>\n",
       "      <td>...</td>\n",
       "      <td>...</td>\n",
       "      <td>...</td>\n",
       "      <td>...</td>\n",
       "      <td>...</td>\n",
       "    </tr>\n",
       "    <tr>\n",
       "      <th>1971</th>\n",
       "      <td>244</td>\n",
       "      <td>229</td>\n",
       "      <td>229</td>\n",
       "      <td>248</td>\n",
       "      <td>167</td>\n",
       "      <td>156</td>\n",
       "      <td>230</td>\n",
       "      <td>244</td>\n",
       "      <td>229</td>\n",
       "      <td>229</td>\n",
       "      <td>248</td>\n",
       "      <td>167</td>\n",
       "      <td>156</td>\n",
       "      <td>230</td>\n",
       "    </tr>\n",
       "    <tr>\n",
       "      <th>1972</th>\n",
       "      <td>67</td>\n",
       "      <td>63</td>\n",
       "      <td>75</td>\n",
       "      <td>89</td>\n",
       "      <td>130</td>\n",
       "      <td>128</td>\n",
       "      <td>66</td>\n",
       "      <td>67</td>\n",
       "      <td>63</td>\n",
       "      <td>75</td>\n",
       "      <td>89</td>\n",
       "      <td>130</td>\n",
       "      <td>128</td>\n",
       "      <td>66</td>\n",
       "    </tr>\n",
       "    <tr>\n",
       "      <th>1973</th>\n",
       "      <td>49</td>\n",
       "      <td>50</td>\n",
       "      <td>50</td>\n",
       "      <td>50</td>\n",
       "      <td>37</td>\n",
       "      <td>33</td>\n",
       "      <td>50</td>\n",
       "      <td>49</td>\n",
       "      <td>50</td>\n",
       "      <td>50</td>\n",
       "      <td>50</td>\n",
       "      <td>37</td>\n",
       "      <td>33</td>\n",
       "      <td>50</td>\n",
       "    </tr>\n",
       "    <tr>\n",
       "      <th>1974</th>\n",
       "      <td>169</td>\n",
       "      <td>151</td>\n",
       "      <td>151</td>\n",
       "      <td>167</td>\n",
       "      <td>107</td>\n",
       "      <td>114</td>\n",
       "      <td>161</td>\n",
       "      <td>169</td>\n",
       "      <td>151</td>\n",
       "      <td>151</td>\n",
       "      <td>167</td>\n",
       "      <td>107</td>\n",
       "      <td>114</td>\n",
       "      <td>161</td>\n",
       "    </tr>\n",
       "    <tr>\n",
       "      <th>1975</th>\n",
       "      <td>166</td>\n",
       "      <td>168</td>\n",
       "      <td>166</td>\n",
       "      <td>269</td>\n",
       "      <td>310</td>\n",
       "      <td>313</td>\n",
       "      <td>170</td>\n",
       "      <td>166</td>\n",
       "      <td>168</td>\n",
       "      <td>166</td>\n",
       "      <td>269</td>\n",
       "      <td>310</td>\n",
       "      <td>313</td>\n",
       "      <td>170</td>\n",
       "    </tr>\n",
       "    <tr>\n",
       "      <th>1976</th>\n",
       "      <td>78</td>\n",
       "      <td>98</td>\n",
       "      <td>91</td>\n",
       "      <td>103</td>\n",
       "      <td>100</td>\n",
       "      <td>107</td>\n",
       "      <td>95</td>\n",
       "      <td>78</td>\n",
       "      <td>98</td>\n",
       "      <td>91</td>\n",
       "      <td>103</td>\n",
       "      <td>100</td>\n",
       "      <td>107</td>\n",
       "      <td>95</td>\n",
       "    </tr>\n",
       "    <tr>\n",
       "      <th>1977</th>\n",
       "      <td>131</td>\n",
       "      <td>126</td>\n",
       "      <td>140</td>\n",
       "      <td>127</td>\n",
       "      <td>117</td>\n",
       "      <td>134</td>\n",
       "      <td>138</td>\n",
       "      <td>131</td>\n",
       "      <td>126</td>\n",
       "      <td>140</td>\n",
       "      <td>127</td>\n",
       "      <td>117</td>\n",
       "      <td>134</td>\n",
       "      <td>138</td>\n",
       "    </tr>\n",
       "    <tr>\n",
       "      <th>1978</th>\n",
       "      <td>191</td>\n",
       "      <td>169</td>\n",
       "      <td>180</td>\n",
       "      <td>255</td>\n",
       "      <td>226</td>\n",
       "      <td>247</td>\n",
       "      <td>164</td>\n",
       "      <td>191</td>\n",
       "      <td>169</td>\n",
       "      <td>180</td>\n",
       "      <td>255</td>\n",
       "      <td>226</td>\n",
       "      <td>247</td>\n",
       "      <td>164</td>\n",
       "    </tr>\n",
       "    <tr>\n",
       "      <th>1979</th>\n",
       "      <td>57</td>\n",
       "      <td>63</td>\n",
       "      <td>59</td>\n",
       "      <td>79</td>\n",
       "      <td>72</td>\n",
       "      <td>70</td>\n",
       "      <td>62</td>\n",
       "      <td>57</td>\n",
       "      <td>63</td>\n",
       "      <td>59</td>\n",
       "      <td>79</td>\n",
       "      <td>72</td>\n",
       "      <td>70</td>\n",
       "      <td>62</td>\n",
       "    </tr>\n",
       "    <tr>\n",
       "      <th>1980</th>\n",
       "      <td>45</td>\n",
       "      <td>46</td>\n",
       "      <td>46</td>\n",
       "      <td>45</td>\n",
       "      <td>68</td>\n",
       "      <td>62</td>\n",
       "      <td>45</td>\n",
       "      <td>45</td>\n",
       "      <td>46</td>\n",
       "      <td>46</td>\n",
       "      <td>45</td>\n",
       "      <td>68</td>\n",
       "      <td>62</td>\n",
       "      <td>45</td>\n",
       "    </tr>\n",
       "    <tr>\n",
       "      <th>1981</th>\n",
       "      <td>106</td>\n",
       "      <td>109</td>\n",
       "      <td>117</td>\n",
       "      <td>104</td>\n",
       "      <td>84</td>\n",
       "      <td>88</td>\n",
       "      <td>113</td>\n",
       "      <td>106</td>\n",
       "      <td>109</td>\n",
       "      <td>117</td>\n",
       "      <td>104</td>\n",
       "      <td>84</td>\n",
       "      <td>88</td>\n",
       "      <td>113</td>\n",
       "    </tr>\n",
       "    <tr>\n",
       "      <th>1982</th>\n",
       "      <td>75</td>\n",
       "      <td>75</td>\n",
       "      <td>76</td>\n",
       "      <td>79</td>\n",
       "      <td>67</td>\n",
       "      <td>52</td>\n",
       "      <td>84</td>\n",
       "      <td>75</td>\n",
       "      <td>75</td>\n",
       "      <td>76</td>\n",
       "      <td>79</td>\n",
       "      <td>67</td>\n",
       "      <td>52</td>\n",
       "      <td>84</td>\n",
       "    </tr>\n",
       "    <tr>\n",
       "      <th>1983</th>\n",
       "      <td>106</td>\n",
       "      <td>104</td>\n",
       "      <td>111</td>\n",
       "      <td>113</td>\n",
       "      <td>103</td>\n",
       "      <td>105</td>\n",
       "      <td>97</td>\n",
       "      <td>106</td>\n",
       "      <td>104</td>\n",
       "      <td>111</td>\n",
       "      <td>113</td>\n",
       "      <td>103</td>\n",
       "      <td>105</td>\n",
       "      <td>97</td>\n",
       "    </tr>\n",
       "    <tr>\n",
       "      <th>1984</th>\n",
       "      <td>66</td>\n",
       "      <td>62</td>\n",
       "      <td>61</td>\n",
       "      <td>57</td>\n",
       "      <td>58</td>\n",
       "      <td>53</td>\n",
       "      <td>67</td>\n",
       "      <td>66</td>\n",
       "      <td>62</td>\n",
       "      <td>61</td>\n",
       "      <td>57</td>\n",
       "      <td>58</td>\n",
       "      <td>53</td>\n",
       "      <td>67</td>\n",
       "    </tr>\n",
       "    <tr>\n",
       "      <th>1985</th>\n",
       "      <td>429</td>\n",
       "      <td>434</td>\n",
       "      <td>478</td>\n",
       "      <td>667</td>\n",
       "      <td>511</td>\n",
       "      <td>477</td>\n",
       "      <td>409</td>\n",
       "      <td>429</td>\n",
       "      <td>434</td>\n",
       "      <td>478</td>\n",
       "      <td>667</td>\n",
       "      <td>511</td>\n",
       "      <td>477</td>\n",
       "      <td>409</td>\n",
       "    </tr>\n",
       "    <tr>\n",
       "      <th>1986</th>\n",
       "      <td>92</td>\n",
       "      <td>90</td>\n",
       "      <td>92</td>\n",
       "      <td>95</td>\n",
       "      <td>95</td>\n",
       "      <td>105</td>\n",
       "      <td>84</td>\n",
       "      <td>92</td>\n",
       "      <td>90</td>\n",
       "      <td>92</td>\n",
       "      <td>95</td>\n",
       "      <td>95</td>\n",
       "      <td>105</td>\n",
       "      <td>84</td>\n",
       "    </tr>\n",
       "    <tr>\n",
       "      <th>1987</th>\n",
       "      <td>49</td>\n",
       "      <td>50</td>\n",
       "      <td>56</td>\n",
       "      <td>74</td>\n",
       "      <td>102</td>\n",
       "      <td>107</td>\n",
       "      <td>50</td>\n",
       "      <td>49</td>\n",
       "      <td>50</td>\n",
       "      <td>56</td>\n",
       "      <td>74</td>\n",
       "      <td>102</td>\n",
       "      <td>107</td>\n",
       "      <td>50</td>\n",
       "    </tr>\n",
       "    <tr>\n",
       "      <th>1988</th>\n",
       "      <td>169</td>\n",
       "      <td>182</td>\n",
       "      <td>181</td>\n",
       "      <td>191</td>\n",
       "      <td>245</td>\n",
       "      <td>257</td>\n",
       "      <td>193</td>\n",
       "      <td>169</td>\n",
       "      <td>182</td>\n",
       "      <td>181</td>\n",
       "      <td>191</td>\n",
       "      <td>245</td>\n",
       "      <td>257</td>\n",
       "      <td>193</td>\n",
       "    </tr>\n",
       "    <tr>\n",
       "      <th>1989</th>\n",
       "      <td>63</td>\n",
       "      <td>57</td>\n",
       "      <td>56</td>\n",
       "      <td>102</td>\n",
       "      <td>88</td>\n",
       "      <td>124</td>\n",
       "      <td>60</td>\n",
       "      <td>63</td>\n",
       "      <td>57</td>\n",
       "      <td>56</td>\n",
       "      <td>102</td>\n",
       "      <td>88</td>\n",
       "      <td>124</td>\n",
       "      <td>60</td>\n",
       "    </tr>\n",
       "    <tr>\n",
       "      <th>1990</th>\n",
       "      <td>88</td>\n",
       "      <td>78</td>\n",
       "      <td>82</td>\n",
       "      <td>98</td>\n",
       "      <td>126</td>\n",
       "      <td>116</td>\n",
       "      <td>67</td>\n",
       "      <td>88</td>\n",
       "      <td>78</td>\n",
       "      <td>82</td>\n",
       "      <td>98</td>\n",
       "      <td>126</td>\n",
       "      <td>116</td>\n",
       "      <td>67</td>\n",
       "    </tr>\n",
       "    <tr>\n",
       "      <th>1991</th>\n",
       "      <td>141</td>\n",
       "      <td>139</td>\n",
       "      <td>133</td>\n",
       "      <td>118</td>\n",
       "      <td>110</td>\n",
       "      <td>124</td>\n",
       "      <td>136</td>\n",
       "      <td>141</td>\n",
       "      <td>139</td>\n",
       "      <td>133</td>\n",
       "      <td>118</td>\n",
       "      <td>110</td>\n",
       "      <td>124</td>\n",
       "      <td>136</td>\n",
       "    </tr>\n",
       "    <tr>\n",
       "      <th>1992</th>\n",
       "      <td>63</td>\n",
       "      <td>65</td>\n",
       "      <td>64</td>\n",
       "      <td>67</td>\n",
       "      <td>121</td>\n",
       "      <td>109</td>\n",
       "      <td>66</td>\n",
       "      <td>63</td>\n",
       "      <td>65</td>\n",
       "      <td>64</td>\n",
       "      <td>67</td>\n",
       "      <td>121</td>\n",
       "      <td>109</td>\n",
       "      <td>66</td>\n",
       "    </tr>\n",
       "    <tr>\n",
       "      <th>1993</th>\n",
       "      <td>43</td>\n",
       "      <td>57</td>\n",
       "      <td>79</td>\n",
       "      <td>55</td>\n",
       "      <td>72</td>\n",
       "      <td>75</td>\n",
       "      <td>41</td>\n",
       "      <td>43</td>\n",
       "      <td>57</td>\n",
       "      <td>79</td>\n",
       "      <td>55</td>\n",
       "      <td>72</td>\n",
       "      <td>75</td>\n",
       "      <td>41</td>\n",
       "    </tr>\n",
       "    <tr>\n",
       "      <th>1994</th>\n",
       "      <td>152</td>\n",
       "      <td>131</td>\n",
       "      <td>137</td>\n",
       "      <td>156</td>\n",
       "      <td>148</td>\n",
       "      <td>145</td>\n",
       "      <td>151</td>\n",
       "      <td>152</td>\n",
       "      <td>131</td>\n",
       "      <td>137</td>\n",
       "      <td>156</td>\n",
       "      <td>148</td>\n",
       "      <td>145</td>\n",
       "      <td>151</td>\n",
       "    </tr>\n",
       "    <tr>\n",
       "      <th>1995</th>\n",
       "      <td>59</td>\n",
       "      <td>57</td>\n",
       "      <td>64</td>\n",
       "      <td>67</td>\n",
       "      <td>66</td>\n",
       "      <td>80</td>\n",
       "      <td>61</td>\n",
       "      <td>59</td>\n",
       "      <td>57</td>\n",
       "      <td>64</td>\n",
       "      <td>67</td>\n",
       "      <td>66</td>\n",
       "      <td>80</td>\n",
       "      <td>61</td>\n",
       "    </tr>\n",
       "    <tr>\n",
       "      <th>1996</th>\n",
       "      <td>81</td>\n",
       "      <td>80</td>\n",
       "      <td>87</td>\n",
       "      <td>86</td>\n",
       "      <td>88</td>\n",
       "      <td>84</td>\n",
       "      <td>85</td>\n",
       "      <td>81</td>\n",
       "      <td>80</td>\n",
       "      <td>87</td>\n",
       "      <td>86</td>\n",
       "      <td>88</td>\n",
       "      <td>84</td>\n",
       "      <td>85</td>\n",
       "    </tr>\n",
       "    <tr>\n",
       "      <th>1997</th>\n",
       "      <td>302</td>\n",
       "      <td>295</td>\n",
       "      <td>281</td>\n",
       "      <td>241</td>\n",
       "      <td>101</td>\n",
       "      <td>116</td>\n",
       "      <td>309</td>\n",
       "      <td>302</td>\n",
       "      <td>295</td>\n",
       "      <td>281</td>\n",
       "      <td>241</td>\n",
       "      <td>101</td>\n",
       "      <td>116</td>\n",
       "      <td>309</td>\n",
       "    </tr>\n",
       "    <tr>\n",
       "      <th>1998</th>\n",
       "      <td>518</td>\n",
       "      <td>518</td>\n",
       "      <td>568</td>\n",
       "      <td>521</td>\n",
       "      <td>328</td>\n",
       "      <td>322</td>\n",
       "      <td>565</td>\n",
       "      <td>518</td>\n",
       "      <td>518</td>\n",
       "      <td>568</td>\n",
       "      <td>521</td>\n",
       "      <td>328</td>\n",
       "      <td>322</td>\n",
       "      <td>565</td>\n",
       "    </tr>\n",
       "    <tr>\n",
       "      <th>1999</th>\n",
       "      <td>292</td>\n",
       "      <td>297</td>\n",
       "      <td>298</td>\n",
       "      <td>337</td>\n",
       "      <td>398</td>\n",
       "      <td>438</td>\n",
       "      <td>310</td>\n",
       "      <td>292</td>\n",
       "      <td>297</td>\n",
       "      <td>298</td>\n",
       "      <td>337</td>\n",
       "      <td>398</td>\n",
       "      <td>438</td>\n",
       "      <td>310</td>\n",
       "    </tr>\n",
       "    <tr>\n",
       "      <th>2000</th>\n",
       "      <td>167</td>\n",
       "      <td>169</td>\n",
       "      <td>158</td>\n",
       "      <td>140</td>\n",
       "      <td>70</td>\n",
       "      <td>62</td>\n",
       "      <td>164</td>\n",
       "      <td>167</td>\n",
       "      <td>169</td>\n",
       "      <td>158</td>\n",
       "      <td>140</td>\n",
       "      <td>70</td>\n",
       "      <td>62</td>\n",
       "      <td>164</td>\n",
       "    </tr>\n",
       "  </tbody>\n",
       "</table>\n",
       "<p>2000 rows × 14 columns</p>\n",
       "</div>"
      ],
      "text/plain": [
       "      predict_day_1  predict_day_2  predict_day_3  predict_day_4  \\\n",
       "1               251            196            220            244   \n",
       "2                47             50             44             47   \n",
       "3                72             71             74             92   \n",
       "4                89            110             62            104   \n",
       "5               256            212            229            194   \n",
       "6                97             97             99            119   \n",
       "7               122            101            117            133   \n",
       "8                65             75             67             65   \n",
       "9               205            204            221            203   \n",
       "10               88            113             82             85   \n",
       "11               96             96             86             90   \n",
       "12               43             55             63             61   \n",
       "13              250            253            237            247   \n",
       "14               58             57             52             45   \n",
       "15              117            121            128            141   \n",
       "16               46             43             46             57   \n",
       "17               84             80             82             92   \n",
       "18               76             71             86             93   \n",
       "19              146            139            158            144   \n",
       "20              164            149            153            147   \n",
       "21               68             72             70             84   \n",
       "22               96            113             99            126   \n",
       "23               26             28             27             30   \n",
       "24               71             72             78             92   \n",
       "25              114            114            109            138   \n",
       "26               58             69             72             61   \n",
       "27               84             87             86             82   \n",
       "28               61             60             65             76   \n",
       "29               82             85             92            123   \n",
       "30               33             46             42             49   \n",
       "...             ...            ...            ...            ...   \n",
       "1971            244            229            229            248   \n",
       "1972             67             63             75             89   \n",
       "1973             49             50             50             50   \n",
       "1974            169            151            151            167   \n",
       "1975            166            168            166            269   \n",
       "1976             78             98             91            103   \n",
       "1977            131            126            140            127   \n",
       "1978            191            169            180            255   \n",
       "1979             57             63             59             79   \n",
       "1980             45             46             46             45   \n",
       "1981            106            109            117            104   \n",
       "1982             75             75             76             79   \n",
       "1983            106            104            111            113   \n",
       "1984             66             62             61             57   \n",
       "1985            429            434            478            667   \n",
       "1986             92             90             92             95   \n",
       "1987             49             50             56             74   \n",
       "1988            169            182            181            191   \n",
       "1989             63             57             56            102   \n",
       "1990             88             78             82             98   \n",
       "1991            141            139            133            118   \n",
       "1992             63             65             64             67   \n",
       "1993             43             57             79             55   \n",
       "1994            152            131            137            156   \n",
       "1995             59             57             64             67   \n",
       "1996             81             80             87             86   \n",
       "1997            302            295            281            241   \n",
       "1998            518            518            568            521   \n",
       "1999            292            297            298            337   \n",
       "2000            167            169            158            140   \n",
       "\n",
       "      predict_day_5  predict_day_6  predict_day_7  predict_day_8  \\\n",
       "1               239            263            201            251   \n",
       "2                62             64             48             47   \n",
       "3               106            105             66             72   \n",
       "4               197            206             95             89   \n",
       "5               189            195            287            256   \n",
       "6               103            105             97             97   \n",
       "7               167            190            113            122   \n",
       "8                72             70             56             65   \n",
       "9               254            292            237            205   \n",
       "10               91            111             96             88   \n",
       "11               64             68             95             96   \n",
       "12               75             80             52             43   \n",
       "13              221            243            250            250   \n",
       "14               66             50             61             58   \n",
       "15              190            198            130            117   \n",
       "16               47             44             41             46   \n",
       "17              125            111             83             84   \n",
       "18              107            100             85             76   \n",
       "19              191            219            150            146   \n",
       "20              139            132            162            164   \n",
       "21              131            123             79             68   \n",
       "22              121            119            103             96   \n",
       "23               14             11             30             26   \n",
       "24              112            116             66             71   \n",
       "25              149            129            109            114   \n",
       "26              138            144             56             58   \n",
       "27               87             84             91             84   \n",
       "28               88             91             60             61   \n",
       "29              198            188             99             82   \n",
       "30               48             59             45             33   \n",
       "...             ...            ...            ...            ...   \n",
       "1971            167            156            230            244   \n",
       "1972            130            128             66             67   \n",
       "1973             37             33             50             49   \n",
       "1974            107            114            161            169   \n",
       "1975            310            313            170            166   \n",
       "1976            100            107             95             78   \n",
       "1977            117            134            138            131   \n",
       "1978            226            247            164            191   \n",
       "1979             72             70             62             57   \n",
       "1980             68             62             45             45   \n",
       "1981             84             88            113            106   \n",
       "1982             67             52             84             75   \n",
       "1983            103            105             97            106   \n",
       "1984             58             53             67             66   \n",
       "1985            511            477            409            429   \n",
       "1986             95            105             84             92   \n",
       "1987            102            107             50             49   \n",
       "1988            245            257            193            169   \n",
       "1989             88            124             60             63   \n",
       "1990            126            116             67             88   \n",
       "1991            110            124            136            141   \n",
       "1992            121            109             66             63   \n",
       "1993             72             75             41             43   \n",
       "1994            148            145            151            152   \n",
       "1995             66             80             61             59   \n",
       "1996             88             84             85             81   \n",
       "1997            101            116            309            302   \n",
       "1998            328            322            565            518   \n",
       "1999            398            438            310            292   \n",
       "2000             70             62            164            167   \n",
       "\n",
       "      predict_day_9  predict_day_10  predict_day_11  predict_day_12  \\\n",
       "1               196             220             244             239   \n",
       "2                50              44              47              62   \n",
       "3                71              74              92             106   \n",
       "4               110              62             104             197   \n",
       "5               212             229             194             189   \n",
       "6                97              99             119             103   \n",
       "7               101             117             133             167   \n",
       "8                75              67              65              72   \n",
       "9               204             221             203             254   \n",
       "10              113              82              85              91   \n",
       "11               96              86              90              64   \n",
       "12               55              63              61              75   \n",
       "13              253             237             247             221   \n",
       "14               57              52              45              66   \n",
       "15              121             128             141             190   \n",
       "16               43              46              57              47   \n",
       "17               80              82              92             125   \n",
       "18               71              86              93             107   \n",
       "19              139             158             144             191   \n",
       "20              149             153             147             139   \n",
       "21               72              70              84             131   \n",
       "22              113              99             126             121   \n",
       "23               28              27              30              14   \n",
       "24               72              78              92             112   \n",
       "25              114             109             138             149   \n",
       "26               69              72              61             138   \n",
       "27               87              86              82              87   \n",
       "28               60              65              76              88   \n",
       "29               85              92             123             198   \n",
       "30               46              42              49              48   \n",
       "...             ...             ...             ...             ...   \n",
       "1971            229             229             248             167   \n",
       "1972             63              75              89             130   \n",
       "1973             50              50              50              37   \n",
       "1974            151             151             167             107   \n",
       "1975            168             166             269             310   \n",
       "1976             98              91             103             100   \n",
       "1977            126             140             127             117   \n",
       "1978            169             180             255             226   \n",
       "1979             63              59              79              72   \n",
       "1980             46              46              45              68   \n",
       "1981            109             117             104              84   \n",
       "1982             75              76              79              67   \n",
       "1983            104             111             113             103   \n",
       "1984             62              61              57              58   \n",
       "1985            434             478             667             511   \n",
       "1986             90              92              95              95   \n",
       "1987             50              56              74             102   \n",
       "1988            182             181             191             245   \n",
       "1989             57              56             102              88   \n",
       "1990             78              82              98             126   \n",
       "1991            139             133             118             110   \n",
       "1992             65              64              67             121   \n",
       "1993             57              79              55              72   \n",
       "1994            131             137             156             148   \n",
       "1995             57              64              67              66   \n",
       "1996             80              87              86              88   \n",
       "1997            295             281             241             101   \n",
       "1998            518             568             521             328   \n",
       "1999            297             298             337             398   \n",
       "2000            169             158             140              70   \n",
       "\n",
       "      predict_day_13  predict_day_14  \n",
       "1                263             201  \n",
       "2                 64              48  \n",
       "3                105              66  \n",
       "4                206              95  \n",
       "5                195             287  \n",
       "6                105              97  \n",
       "7                190             113  \n",
       "8                 70              56  \n",
       "9                292             237  \n",
       "10               111              96  \n",
       "11                68              95  \n",
       "12                80              52  \n",
       "13               243             250  \n",
       "14                50              61  \n",
       "15               198             130  \n",
       "16                44              41  \n",
       "17               111              83  \n",
       "18               100              85  \n",
       "19               219             150  \n",
       "20               132             162  \n",
       "21               123              79  \n",
       "22               119             103  \n",
       "23                11              30  \n",
       "24               116              66  \n",
       "25               129             109  \n",
       "26               144              56  \n",
       "27                84              91  \n",
       "28                91              60  \n",
       "29               188              99  \n",
       "30                59              45  \n",
       "...              ...             ...  \n",
       "1971             156             230  \n",
       "1972             128              66  \n",
       "1973              33              50  \n",
       "1974             114             161  \n",
       "1975             313             170  \n",
       "1976             107              95  \n",
       "1977             134             138  \n",
       "1978             247             164  \n",
       "1979              70              62  \n",
       "1980              62              45  \n",
       "1981              88             113  \n",
       "1982              52              84  \n",
       "1983             105              97  \n",
       "1984              53              67  \n",
       "1985             477             409  \n",
       "1986             105              84  \n",
       "1987             107              50  \n",
       "1988             257             193  \n",
       "1989             124              60  \n",
       "1990             116              67  \n",
       "1991             124             136  \n",
       "1992             109              66  \n",
       "1993              75              41  \n",
       "1994             145             151  \n",
       "1995              80              61  \n",
       "1996              84              85  \n",
       "1997             116             309  \n",
       "1998             322             565  \n",
       "1999             438             310  \n",
       "2000              62             164  \n",
       "\n",
       "[2000 rows x 14 columns]"
      ]
     },
     "execution_count": 49,
     "metadata": {},
     "output_type": "execute_result"
    }
   ],
   "source": [
    "shop_info.loc[:,'predict_day_1':'predict_day_14']"
   ]
  },
  {
   "cell_type": "code",
   "execution_count": 50,
   "metadata": {
    "collapsed": false
   },
   "outputs": [],
   "source": [
    "for id in shop_info.index.tolist():\n",
    "    for i in range(1,15):\n",
    "        if shop_info.loc[id,'predict_day_'+str(i)] <0:\n",
    "            print 'ERROR'"
   ]
  },
  {
   "cell_type": "code",
   "execution_count": 146,
   "metadata": {
    "collapsed": true
   },
   "outputs": [],
   "source": [
    "#shop_info.loc[:,'predict_day_1':'predict_day_14'].to_csv('Prediction (Main model 1).csv',sep=',',index=True,columns=None)"
   ]
  },
  {
   "cell_type": "code",
   "execution_count": 51,
   "metadata": {
    "collapsed": true
   },
   "outputs": [],
   "source": [
    "shop_info.loc[:,'predict_day_1':'predict_day_14'].to_csv('Prediction (Main model 2).csv',sep=',',index=True,columns=None)"
   ]
  },
  {
   "cell_type": "code",
   "execution_count": null,
   "metadata": {
    "collapsed": true
   },
   "outputs": [],
   "source": []
  }
 ],
 "metadata": {
  "kernelspec": {
   "display_name": "Python [Root]",
   "language": "python",
   "name": "Python [Root]"
  },
  "language_info": {
   "codemirror_mode": {
    "name": "ipython",
    "version": 2
   },
   "file_extension": ".py",
   "mimetype": "text/x-python",
   "name": "python",
   "nbconvert_exporter": "python",
   "pygments_lexer": "ipython2",
   "version": "2.7.12"
  }
 },
 "nbformat": 4,
 "nbformat_minor": 0
}
